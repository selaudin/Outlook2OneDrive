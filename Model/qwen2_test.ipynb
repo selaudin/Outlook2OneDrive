{
 "cells": [
  {
   "cell_type": "code",
   "execution_count": 1,
   "metadata": {},
   "outputs": [
    {
     "name": "stderr",
     "output_type": "stream",
     "text": [
      "/Users/mdpi/Personal/Projects/OutlookConnect/venv/lib/python3.12/site-packages/tqdm/auto.py:21: TqdmWarning: IProgress not found. Please update jupyter and ipywidgets. See https://ipywidgets.readthedocs.io/en/stable/user_install.html\n",
      "  from .autonotebook import tqdm as notebook_tqdm\n"
     ]
    }
   ],
   "source": [
    "from transformers import AutoProcessor, AutoModelForImageTextToText\n",
    "from qwen_vl_utils import process_vision_info\n",
    "import json"
   ]
  },
  {
   "cell_type": "code",
   "execution_count": 2,
   "metadata": {},
   "outputs": [
    {
     "name": "stderr",
     "output_type": "stream",
     "text": [
      "`Qwen2VLRotaryEmbedding` can now be fully parameterized by passing the model config through the `config` argument. All other arguments will be removed in v4.46\n",
      "Loading checkpoint shards: 100%|██████████| 2/2 [00:12<00:00,  6.31s/it]\n"
     ]
    }
   ],
   "source": [
    "processor = AutoProcessor.from_pretrained(\"Qwen/Qwen2-VL-2B-Instruct\")\n",
    "model = AutoModelForImageTextToText.from_pretrained(\"Qwen/Qwen2-VL-2B-Instruct\")"
   ]
  },
  {
   "cell_type": "code",
   "execution_count": 3,
   "metadata": {},
   "outputs": [],
   "source": [
    "import torch\n",
    "if torch.cuda.is_available():\n",
    "    model = model.to(\"cuda\")"
   ]
  },
  {
   "cell_type": "code",
   "execution_count": 4,
   "metadata": {},
   "outputs": [],
   "source": [
    "file_name = \"../attachments/gui2.jpg\""
   ]
  },
  {
   "cell_type": "code",
   "execution_count": 5,
   "metadata": {},
   "outputs": [],
   "source": [
    "messages = [\n",
    "    {\n",
    "        \"role\": \"user\",\n",
    "        \"content\": [\n",
    "            {\n",
    "                \"type\": \"image\",\n",
    "                \"image\": file_name,\n",
    "                \"resized_height\": 696,\n",
    "                \"resized_width\": 943,\n",
    "            },\n",
    "            {\n",
    "                \"type\": \"text\",\n",
    "                \"text\": \"Retrieve invoice_number, date_of_issue, seller_info, client_info, invoice_items_table, currency, invoice_summary_table. Response must be in JSON format\"\n",
    "            }\n",
    "        ]\n",
    "    }\n",
    "]"
   ]
  },
  {
   "cell_type": "code",
   "execution_count": 6,
   "metadata": {},
   "outputs": [
    {
     "data": {
      "text/plain": [
       "['```json\\n{\\n  \"invoice_number\": \"24/12/2025\",\\n  \"date_of_issue\": \"04. October 2024\",\\n  \"seller_info\": {\\n    \"name\": \"PSI Services SA\",\\n    \"address\": \"17, Rue de Flaxweiler - L-6776 Grevenmacher\"\\n  },\\n  \"client_info\": {\\n    \"name\": \"Sir or Madam\"\\n  },\\n  \"invoice_items_table\": [\\n    {\\n      \"position\": 1,\\n      \"description\": \"Administration costs September 2024\",\\n      \"vat_percent\": 0.00,\\n      \"net_amount\": 12567.09,\\n      \"vat_amount\": 0.01,\\n      \"gross_amount\": 23546.11\\n    }\\n  ],\\n  \"currency\": \"CHF\",\\n  \"invoice_summary_table\": [\\n    {\\n      \"total\": 12567.09,\\n      \"vat_percent\": 0.00,\\n      \"net_amount\": 12567.09,\\n      \"vat_amount\": 0.01,\\n      \"gross_amount\": 23546.11\\n    }\\n  ]\\n}\\n```']"
      ]
     },
     "execution_count": 6,
     "metadata": {},
     "output_type": "execute_result"
    }
   ],
   "source": [
    "text = processor.apply_chat_template(\n",
    "    messages, tokenize=False, add_generation_prompt=True\n",
    ")\n",
    "\n",
    "image_inputs, video_inputs = process_vision_info(messages)\n",
    "inputs = processor(\n",
    "    text=[text],\n",
    "    images=image_inputs,\n",
    "    videos=video_inputs,\n",
    "    padding=True,\n",
    "    return_tensors=\"pt\",\n",
    ")\n",
    "\n",
    "# Move inputs to the same device as the model\n",
    "device = \"cuda\" if torch.cuda.is_available() else \"cpu\"\n",
    "inputs = {key: value.to(device) for key, value in inputs.items()}\n",
    "\n",
    "generated_ids = model.generate(**inputs, max_new_tokens=1024)\n",
    "generated_ids_trimmed = [\n",
    "    out_ids[len(in_ids) :] for in_ids, out_ids in zip(inputs[\"input_ids\"], generated_ids)\n",
    "]\n",
    "output_text = processor.batch_decode(\n",
    "    generated_ids_trimmed, skip_special_tokens=True, clean_up_tokenization_spaces=True)\n",
    "\n",
    "output_text"
   ]
  },
  {
   "cell_type": "code",
   "execution_count": 22,
   "metadata": {},
   "outputs": [
    {
     "name": "stdout",
     "output_type": "stream",
     "text": [
      "{\n",
      "  \"client\": \"PSI Concepts SA\",\n",
      "  \"date\": \"04. October 2024\",\n",
      "  \"vat\": \"0.00%\",\n",
      "  \"brutto\": \"12.567.09\",\n",
      "  \"net\": \"0.01\",\n",
      "  \"currency\": \"CHF\"\n",
      "}\n",
      "{\n",
      "   \"client\": \"PSI Concepts SA\",\n",
      "   \"date\": \"04. October 2024\",\n",
      "   \"vat\": \"0.00%\",\n",
      "   \"brutto\": \"12.567.09\",\n",
      "   \"net\": \"0.01\",\n",
      "   \"currency\": \"CHF\"\n",
      "}\n"
     ]
    }
   ],
   "source": [
    "json_string = output_text[0]\n",
    "json_string = json_string.strip(\"[]'\")\n",
    "json_string = json_string.replace(\"```json\\n\", \"\").replace(\"\\n```\", \"\")\n",
    "json_string = json_string.replace(\"'\", \"\")\n",
    "print(json_string)\n",
    "try:\n",
    "    formatted_json = json.loads(json_string)\n",
    "    with open('../Data/InvoiceData/'+formatted_json['client']+'.json', 'w') as f:\n",
    "        json.dump(formatted_json, f)\n",
    "\n",
    "    print(json.dumps(formatted_json, indent=3))\n",
    "except json.JSONDecodeError as e:\n",
    "    print(\"Not valid JSON format:\", e)"
   ]
  },
  {
   "cell_type": "code",
   "execution_count": null,
   "metadata": {},
   "outputs": [],
   "source": []
  }
 ],
 "metadata": {
  "kernelspec": {
   "display_name": "venv",
   "language": "python",
   "name": "python3"
  },
  "language_info": {
   "codemirror_mode": {
    "name": "ipython",
    "version": 3
   },
   "file_extension": ".py",
   "mimetype": "text/x-python",
   "name": "python",
   "nbconvert_exporter": "python",
   "pygments_lexer": "ipython3",
   "version": "3.12.7"
  }
 },
 "nbformat": 4,
 "nbformat_minor": 2
}
